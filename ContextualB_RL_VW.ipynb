{
 "metadata": {
  "language_info": {
   "codemirror_mode": {
    "name": "ipython",
    "version": 3
   },
   "file_extension": ".py",
   "mimetype": "text/x-python",
   "name": "python",
   "nbconvert_exporter": "python",
   "pygments_lexer": "ipython3",
   "version": "3.9.2-final"
  },
  "orig_nbformat": 2,
  "kernelspec": {
   "name": "python3",
   "display_name": "Python 3.9.2 64-bit",
   "metadata": {
    "interpreter": {
     "hash": "aee8b7b246df8f9039afb4144a1f6fd8d2ca17a180786b69acc140d282b71a49"
    }
   }
  }
 },
 "nbformat": 4,
 "nbformat_minor": 2,
 "cells": [
  {
   "cell_type": "code",
   "execution_count": 33,
   "metadata": {},
   "outputs": [],
   "source": [
    "# load required packages\n",
    "import pandas as pd\n",
    "import sklearn as sk\n",
    "import numpy as np"
   ]
  },
  {
   "cell_type": "code",
   "execution_count": 34,
   "metadata": {},
   "outputs": [],
   "source": [
    "# # generate sample data that could originate from previous random trial, e.g. AB test, for the CB to explore\n",
    "train_data = [{'action': 1, 'cost': 2, 'probability': 0.4, 'feature1': 'a', 'feature2': 'c', 'feature3': ''},\n",
    "              {'action': 3, 'cost': 0, 'probability': 0.2, 'feature1': 'b', 'feature2': 'd', 'feature3': ''},\n",
    "              {'action': 4, 'cost': 1, 'probability': 0.5, 'feature1': 'a', 'feature2': 'b', 'feature3': ''},\n",
    "              {'action': 2, 'cost': 1, 'probability': 0.3, 'feature1': 'a', 'feature2': 'b', 'feature3': 'c'},\n",
    "              {'action': 3, 'cost': 1, 'probability': 0.7, 'feature1': 'a', 'feature2': 'd', 'feature3': ''}]\n",
    "\n",
    "train_df = pd.DataFrame(train_data)"
   ]
  },
  {
   "cell_type": "code",
   "execution_count": 35,
   "metadata": {},
   "outputs": [],
   "source": [
    "# Add index to data frame\n",
    "train_df['index'] = range(1, len(train_df) + 1)\n",
    "train_df = train_df.set_index(\"index\")"
   ]
  },
  {
   "cell_type": "code",
   "execution_count": 36,
   "metadata": {},
   "outputs": [],
   "source": [
    "# generate some test data that you want the CB to make decisions for, e.g. features describing new users, for the CB to exploit\n",
    "test_data = [{'feature1': 'b', 'feature2': 'c', 'feature3': ''},\n",
    "            {'feature1': 'a', 'feature2': '', 'feature3': 'b'},\n",
    "            {'feature1': 'b', 'feature2': 'b', 'feature3': ''},\n",
    "            {'feature1': 'a', 'feature2': '', 'feature3': 'b'}]\n",
    "\n",
    "test_df = pd.DataFrame(test_data)\n",
    "\n",
    "# Add index to data frame\n",
    "test_df['index'] = range(1, len(test_df) + 1)\n",
    "test_df = test_df.set_index(\"index\")"
   ]
  },
  {
   "cell_type": "code",
   "execution_count": 37,
   "metadata": {},
   "outputs": [
    {
     "output_type": "execute_result",
     "data": {
      "text/plain": [
       "       action  cost  probability feature1 feature2 feature3\n",
       "index                                                      \n",
       "1           1     2          0.4        a        c         \n",
       "2           3     0          0.2        b        d         \n",
       "3           4     1          0.5        a        b         \n",
       "4           2     1          0.3        a        b        c\n",
       "5           3     1          0.7        a        d         "
      ],
      "text/html": "<div>\n<style scoped>\n    .dataframe tbody tr th:only-of-type {\n        vertical-align: middle;\n    }\n\n    .dataframe tbody tr th {\n        vertical-align: top;\n    }\n\n    .dataframe thead th {\n        text-align: right;\n    }\n</style>\n<table border=\"1\" class=\"dataframe\">\n  <thead>\n    <tr style=\"text-align: right;\">\n      <th></th>\n      <th>action</th>\n      <th>cost</th>\n      <th>probability</th>\n      <th>feature1</th>\n      <th>feature2</th>\n      <th>feature3</th>\n    </tr>\n    <tr>\n      <th>index</th>\n      <th></th>\n      <th></th>\n      <th></th>\n      <th></th>\n      <th></th>\n      <th></th>\n    </tr>\n  </thead>\n  <tbody>\n    <tr>\n      <th>1</th>\n      <td>1</td>\n      <td>2</td>\n      <td>0.4</td>\n      <td>a</td>\n      <td>c</td>\n      <td></td>\n    </tr>\n    <tr>\n      <th>2</th>\n      <td>3</td>\n      <td>0</td>\n      <td>0.2</td>\n      <td>b</td>\n      <td>d</td>\n      <td></td>\n    </tr>\n    <tr>\n      <th>3</th>\n      <td>4</td>\n      <td>1</td>\n      <td>0.5</td>\n      <td>a</td>\n      <td>b</td>\n      <td></td>\n    </tr>\n    <tr>\n      <th>4</th>\n      <td>2</td>\n      <td>1</td>\n      <td>0.3</td>\n      <td>a</td>\n      <td>b</td>\n      <td>c</td>\n    </tr>\n    <tr>\n      <th>5</th>\n      <td>3</td>\n      <td>1</td>\n      <td>0.7</td>\n      <td>a</td>\n      <td>d</td>\n      <td></td>\n    </tr>\n  </tbody>\n</table>\n</div>"
     },
     "metadata": {},
     "execution_count": 37
    }
   ],
   "source": [
    "# take a look at dataframes\n",
    "train_df.head()"
   ]
  },
  {
   "cell_type": "code",
   "execution_count": 38,
   "metadata": {},
   "outputs": [
    {
     "output_type": "execute_result",
     "data": {
      "text/plain": [
       "      feature1 feature2 feature3\n",
       "index                           \n",
       "1            b        c         \n",
       "2            a                 b\n",
       "3            b        b         \n",
       "4            a                 b"
      ],
      "text/html": "<div>\n<style scoped>\n    .dataframe tbody tr th:only-of-type {\n        vertical-align: middle;\n    }\n\n    .dataframe tbody tr th {\n        vertical-align: top;\n    }\n\n    .dataframe thead th {\n        text-align: right;\n    }\n</style>\n<table border=\"1\" class=\"dataframe\">\n  <thead>\n    <tr style=\"text-align: right;\">\n      <th></th>\n      <th>feature1</th>\n      <th>feature2</th>\n      <th>feature3</th>\n    </tr>\n    <tr>\n      <th>index</th>\n      <th></th>\n      <th></th>\n      <th></th>\n    </tr>\n  </thead>\n  <tbody>\n    <tr>\n      <th>1</th>\n      <td>b</td>\n      <td>c</td>\n      <td></td>\n    </tr>\n    <tr>\n      <th>2</th>\n      <td>a</td>\n      <td></td>\n      <td>b</td>\n    </tr>\n    <tr>\n      <th>3</th>\n      <td>b</td>\n      <td>b</td>\n      <td></td>\n    </tr>\n    <tr>\n      <th>4</th>\n      <td>a</td>\n      <td></td>\n      <td>b</td>\n    </tr>\n  </tbody>\n</table>\n</div>"
     },
     "metadata": {},
     "execution_count": 38
    }
   ],
   "source": [
    "test_df.head()"
   ]
  },
  {
   "source": [
    "---\n",
    "---\n",
    "## Python tutorial"
   ],
   "cell_type": "markdown",
   "metadata": {}
  },
  {
   "cell_type": "code",
   "execution_count": 39,
   "metadata": {},
   "outputs": [],
   "source": [
    "# import vowpal wabbit's python wrapper\n",
    "from vowpalwabbit import pyvw\n",
    "# create python model - this stores the model parameters in the python vw object; here a contextual bandit with four possible actions\n",
    "vw = pyvw.vw(\"--cb 4\")"
   ]
  },
  {
   "cell_type": "code",
   "execution_count": 40,
   "metadata": {},
   "outputs": [],
   "source": [
    "# use the learn method to train the vw model, train model row by row using a loop\n",
    "for i in train_df.index:\n",
    "  ## provide data to cb in requested format\n",
    "  action = train_df.loc[i, \"action\"]\n",
    "  cost = train_df.loc[i, \"cost\"]\n",
    "  probability = train_df.loc[i, \"probability\"]\n",
    "  feature1 = train_df.loc[i, \"feature1\"]\n",
    "  feature2 = train_df.loc[i, \"feature2\"]\n",
    "  feature3 = train_df.loc[i, \"feature3\"]\n",
    "\n",
    "  # Construct the example in the required vw format.\n",
    "  learn_example = str(action) + \":\" + str(cost) + \":\" + str(probability) + \" | \" + str(feature1) + \" \" + str(feature2) + \" \" + str(feature3)\n",
    "\n",
    "  # Here we do the actual learning.\n",
    "  vw.learn(learn_example)"
   ]
  },
  {
   "cell_type": "code",
   "execution_count": 41,
   "metadata": {},
   "outputs": [
    {
     "output_type": "stream",
     "name": "stdout",
     "text": [
      "1 3\n2 3\n3 3\n4 3\n"
     ]
    }
   ],
   "source": [
    "# predict row by row and output results\n",
    "for j in test_df.index:\n",
    "  feature1 = test_df.loc[j, \"feature1\"]\n",
    "  feature2 = test_df.loc[j, \"feature2\"]\n",
    "  feature3 = test_df.loc[j, \"feature3\"]\n",
    "\n",
    "  test_example = \"| \" + str(feature1) + \" \" + str(feature2) + \" \" + str(feature3)\n",
    "\n",
    "  choice = vw.predict(test_example)\n",
    "  print(j, choice)\n",
    "# the CB assigns every instance to action 3 as it should per the cost structure of the train data; you can play with the cost structure to see that the CB updates its predictions accordingly"
   ]
  },
  {
   "cell_type": "code",
   "execution_count": 42,
   "metadata": {},
   "outputs": [
    {
     "output_type": "stream",
     "name": "stdout",
     "text": [
      "3\n"
     ]
    }
   ],
   "source": [
    "# BONUS: save and load the CB model\n",
    "# save model\n",
    "vw.save('cb.model')\n",
    "del vw\n",
    "\n",
    "# load from saved file\n",
    "vw = pyvw.vw(\"--cb 4 -i cb.model\")\n",
    "print(vw.predict('| a b'))\n",
    "# The -i argument means input regressor, telling Vowpal Wabbit to load a model from that file instead of starting from scratch.\n"
   ]
  },
  {
   "cell_type": "code",
   "execution_count": null,
   "metadata": {},
   "outputs": [],
   "source": []
  },
  {
   "cell_type": "code",
   "execution_count": null,
   "metadata": {},
   "outputs": [],
   "source": []
  }
 ]
}